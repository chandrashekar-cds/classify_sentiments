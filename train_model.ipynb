{
 "cells": [
  {
   "attachments": {},
   "cell_type": "markdown",
   "metadata": {},
   "source": [
    "#### model builder - for sentiment classification"
   ]
  },
  {
   "cell_type": "code",
   "execution_count": 1,
   "metadata": {},
   "outputs": [],
   "source": [
    "\"\"\"\n",
    "Steps:\n",
    "1. convert the embeddings into expected format and convert the classes to int : 0 - negative, 1 - positive\n",
    "2. Train SVM and LR\n",
    "\"\"\"\n",
    "import pandas as pd\n",
    "from sklearn.svm import SVC\n",
    "from sklearn.linear_model import LogisticRegression\n",
    "from sklearn.ensemble import VotingClassifier\n",
    "from xgboost import XGBClassifier\n",
    "from sklearn.pipeline import Pipeline\n",
    "from sklearn.model_selection import train_test_split, cross_val_score, GridSearchCV\n",
    "from sklearn.metrics import accuracy_score\n",
    "import numpy as np\n",
    "import pickle\n"
   ]
  },
  {
   "cell_type": "code",
   "execution_count": 2,
   "metadata": {},
   "outputs": [
    {
     "data": {
      "text/html": [
       "<div>\n",
       "<style scoped>\n",
       "    .dataframe tbody tr th:only-of-type {\n",
       "        vertical-align: middle;\n",
       "    }\n",
       "\n",
       "    .dataframe tbody tr th {\n",
       "        vertical-align: top;\n",
       "    }\n",
       "\n",
       "    .dataframe thead th {\n",
       "        text-align: right;\n",
       "    }\n",
       "</style>\n",
       "<table border=\"1\" class=\"dataframe\">\n",
       "  <thead>\n",
       "    <tr style=\"text-align: right;\">\n",
       "      <th></th>\n",
       "      <th>Unnamed: 0.1</th>\n",
       "      <th>Unnamed: 0</th>\n",
       "      <th>review_id</th>\n",
       "      <th>review</th>\n",
       "      <th>sentiment</th>\n",
       "      <th>n_tokens</th>\n",
       "      <th>embeddings</th>\n",
       "    </tr>\n",
       "  </thead>\n",
       "  <tbody>\n",
       "    <tr>\n",
       "      <th>0</th>\n",
       "      <td>0</td>\n",
       "      <td>0</td>\n",
       "      <td>2</td>\n",
       "      <td>I thought this was a wonderful way to spend ti...</td>\n",
       "      <td>positive</td>\n",
       "      <td>208</td>\n",
       "      <td>[-0.0022488185204565525, -0.02475237101316452,...</td>\n",
       "    </tr>\n",
       "    <tr>\n",
       "      <th>1</th>\n",
       "      <td>1</td>\n",
       "      <td>1</td>\n",
       "      <td>3</td>\n",
       "      <td>Basically there's a family where a little boy ...</td>\n",
       "      <td>negative</td>\n",
       "      <td>174</td>\n",
       "      <td>[-0.015456135384738445, -0.026828765869140625,...</td>\n",
       "    </tr>\n",
       "    <tr>\n",
       "      <th>2</th>\n",
       "      <td>2</td>\n",
       "      <td>2</td>\n",
       "      <td>7</td>\n",
       "      <td>This show was an amazing, fresh &amp; innovative i...</td>\n",
       "      <td>negative</td>\n",
       "      <td>213</td>\n",
       "      <td>[-0.00163047865498811, -0.04207943007349968, 0...</td>\n",
       "    </tr>\n",
       "    <tr>\n",
       "      <th>3</th>\n",
       "      <td>3</td>\n",
       "      <td>3</td>\n",
       "      <td>8</td>\n",
       "      <td>Encouraged by the positive comments about this...</td>\n",
       "      <td>negative</td>\n",
       "      <td>160</td>\n",
       "      <td>[-0.025794534012675285, -0.015925776213407516,...</td>\n",
       "    </tr>\n",
       "    <tr>\n",
       "      <th>4</th>\n",
       "      <td>4</td>\n",
       "      <td>4</td>\n",
       "      <td>10</td>\n",
       "      <td>Phil the Alien is one of those quirky films wh...</td>\n",
       "      <td>negative</td>\n",
       "      <td>125</td>\n",
       "      <td>[0.013276934623718262, -0.04165113344788551, -...</td>\n",
       "    </tr>\n",
       "  </tbody>\n",
       "</table>\n",
       "</div>"
      ],
      "text/plain": [
       "   Unnamed: 0.1  Unnamed: 0  review_id  \\\n",
       "0             0           0          2   \n",
       "1             1           1          3   \n",
       "2             2           2          7   \n",
       "3             3           3          8   \n",
       "4             4           4         10   \n",
       "\n",
       "                                              review sentiment  n_tokens  \\\n",
       "0  I thought this was a wonderful way to spend ti...  positive       208   \n",
       "1  Basically there's a family where a little boy ...  negative       174   \n",
       "2  This show was an amazing, fresh & innovative i...  negative       213   \n",
       "3  Encouraged by the positive comments about this...  negative       160   \n",
       "4  Phil the Alien is one of those quirky films wh...  negative       125   \n",
       "\n",
       "                                          embeddings  \n",
       "0  [-0.0022488185204565525, -0.02475237101316452,...  \n",
       "1  [-0.015456135384738445, -0.026828765869140625,...  \n",
       "2  [-0.00163047865498811, -0.04207943007349968, 0...  \n",
       "3  [-0.025794534012675285, -0.015925776213407516,...  \n",
       "4  [0.013276934623718262, -0.04165113344788551, -...  "
      ]
     },
     "execution_count": 2,
     "metadata": {},
     "output_type": "execute_result"
    }
   ],
   "source": [
    "# Load the dataset and split it into training and test sets\n",
    "df = pd.read_csv(\"training_reviews_with_embeddings.csv\")\n",
    "df.head()\n"
   ]
  },
  {
   "cell_type": "code",
   "execution_count": 3,
   "metadata": {},
   "outputs": [],
   "source": [
    "#new_df = pd.DataFrame(df['embeddings'].values.tolist(), columns=[f\"embed_{i}\" for i in range(1536)])\n",
    "import numpy as np\n",
    "df1 = df.dropna(subset=['embeddings'])#.sample(8000)\n",
    "df1[\"embeddings\"] = df1.embeddings.apply(eval).apply(np.array)"
   ]
  },
  {
   "cell_type": "code",
   "execution_count": 4,
   "metadata": {},
   "outputs": [
    {
     "data": {
      "text/html": [
       "<div>\n",
       "<style scoped>\n",
       "    .dataframe tbody tr th:only-of-type {\n",
       "        vertical-align: middle;\n",
       "    }\n",
       "\n",
       "    .dataframe tbody tr th {\n",
       "        vertical-align: top;\n",
       "    }\n",
       "\n",
       "    .dataframe thead th {\n",
       "        text-align: right;\n",
       "    }\n",
       "</style>\n",
       "<table border=\"1\" class=\"dataframe\">\n",
       "  <thead>\n",
       "    <tr style=\"text-align: right;\">\n",
       "      <th></th>\n",
       "      <th>embed_0</th>\n",
       "      <th>embed_1</th>\n",
       "      <th>embed_2</th>\n",
       "      <th>embed_3</th>\n",
       "      <th>embed_4</th>\n",
       "      <th>embed_5</th>\n",
       "      <th>embed_6</th>\n",
       "      <th>embed_7</th>\n",
       "      <th>embed_8</th>\n",
       "      <th>embed_9</th>\n",
       "      <th>...</th>\n",
       "      <th>embed_1526</th>\n",
       "      <th>embed_1527</th>\n",
       "      <th>embed_1528</th>\n",
       "      <th>embed_1529</th>\n",
       "      <th>embed_1530</th>\n",
       "      <th>embed_1531</th>\n",
       "      <th>embed_1532</th>\n",
       "      <th>embed_1533</th>\n",
       "      <th>embed_1534</th>\n",
       "      <th>embed_1535</th>\n",
       "    </tr>\n",
       "  </thead>\n",
       "  <tbody>\n",
       "    <tr>\n",
       "      <th>0</th>\n",
       "      <td>-0.002249</td>\n",
       "      <td>-0.024752</td>\n",
       "      <td>0.024616</td>\n",
       "      <td>-0.024629</td>\n",
       "      <td>-0.013524</td>\n",
       "      <td>0.020135</td>\n",
       "      <td>0.008845</td>\n",
       "      <td>-0.023810</td>\n",
       "      <td>-0.010477</td>\n",
       "      <td>-0.023632</td>\n",
       "      <td>...</td>\n",
       "      <td>0.027443</td>\n",
       "      <td>-0.012212</td>\n",
       "      <td>0.027443</td>\n",
       "      <td>-0.048002</td>\n",
       "      <td>-0.050789</td>\n",
       "      <td>0.017185</td>\n",
       "      <td>0.005010</td>\n",
       "      <td>-0.015696</td>\n",
       "      <td>-0.035025</td>\n",
       "      <td>-0.037894</td>\n",
       "    </tr>\n",
       "    <tr>\n",
       "      <th>1</th>\n",
       "      <td>-0.015456</td>\n",
       "      <td>-0.026829</td>\n",
       "      <td>-0.016148</td>\n",
       "      <td>-0.012231</td>\n",
       "      <td>-0.000328</td>\n",
       "      <td>-0.008300</td>\n",
       "      <td>0.016055</td>\n",
       "      <td>-0.043894</td>\n",
       "      <td>-0.017026</td>\n",
       "      <td>-0.019061</td>\n",
       "      <td>...</td>\n",
       "      <td>0.019513</td>\n",
       "      <td>-0.021561</td>\n",
       "      <td>0.001586</td>\n",
       "      <td>-0.020245</td>\n",
       "      <td>-0.044214</td>\n",
       "      <td>0.009205</td>\n",
       "      <td>-0.013208</td>\n",
       "      <td>-0.003631</td>\n",
       "      <td>-0.005364</td>\n",
       "      <td>-0.019766</td>\n",
       "    </tr>\n",
       "    <tr>\n",
       "      <th>2</th>\n",
       "      <td>-0.001630</td>\n",
       "      <td>-0.042079</td>\n",
       "      <td>0.015727</td>\n",
       "      <td>-0.001767</td>\n",
       "      <td>-0.003291</td>\n",
       "      <td>0.013766</td>\n",
       "      <td>0.002004</td>\n",
       "      <td>-0.022219</td>\n",
       "      <td>-0.035216</td>\n",
       "      <td>-0.013024</td>\n",
       "      <td>...</td>\n",
       "      <td>0.008188</td>\n",
       "      <td>-0.000527</td>\n",
       "      <td>0.024299</td>\n",
       "      <td>-0.027399</td>\n",
       "      <td>-0.015714</td>\n",
       "      <td>0.022550</td>\n",
       "      <td>-0.014574</td>\n",
       "      <td>0.005359</td>\n",
       "      <td>-0.008009</td>\n",
       "      <td>-0.023411</td>\n",
       "    </tr>\n",
       "    <tr>\n",
       "      <th>3</th>\n",
       "      <td>-0.025795</td>\n",
       "      <td>-0.015926</td>\n",
       "      <td>0.001318</td>\n",
       "      <td>-0.032243</td>\n",
       "      <td>0.008146</td>\n",
       "      <td>0.016435</td>\n",
       "      <td>-0.004513</td>\n",
       "      <td>-0.036447</td>\n",
       "      <td>-0.020051</td>\n",
       "      <td>-0.017323</td>\n",
       "      <td>...</td>\n",
       "      <td>0.044723</td>\n",
       "      <td>-0.016239</td>\n",
       "      <td>0.020051</td>\n",
       "      <td>-0.040885</td>\n",
       "      <td>-0.019020</td>\n",
       "      <td>0.011076</td>\n",
       "      <td>0.001376</td>\n",
       "      <td>-0.016043</td>\n",
       "      <td>-0.016122</td>\n",
       "      <td>-0.014999</td>\n",
       "    </tr>\n",
       "    <tr>\n",
       "      <th>4</th>\n",
       "      <td>0.013277</td>\n",
       "      <td>-0.041651</td>\n",
       "      <td>-0.003943</td>\n",
       "      <td>-0.033479</td>\n",
       "      <td>-0.020533</td>\n",
       "      <td>-0.005315</td>\n",
       "      <td>0.006549</td>\n",
       "      <td>-0.044121</td>\n",
       "      <td>-0.012049</td>\n",
       "      <td>-0.006034</td>\n",
       "      <td>...</td>\n",
       "      <td>0.021538</td>\n",
       "      <td>-0.001658</td>\n",
       "      <td>0.017630</td>\n",
       "      <td>-0.013137</td>\n",
       "      <td>-0.022799</td>\n",
       "      <td>0.016332</td>\n",
       "      <td>-0.030398</td>\n",
       "      <td>-0.011838</td>\n",
       "      <td>-0.032053</td>\n",
       "      <td>-0.036941</td>\n",
       "    </tr>\n",
       "  </tbody>\n",
       "</table>\n",
       "<p>5 rows × 1536 columns</p>\n",
       "</div>"
      ],
      "text/plain": [
       "    embed_0   embed_1   embed_2   embed_3   embed_4   embed_5   embed_6  \\\n",
       "0 -0.002249 -0.024752  0.024616 -0.024629 -0.013524  0.020135  0.008845   \n",
       "1 -0.015456 -0.026829 -0.016148 -0.012231 -0.000328 -0.008300  0.016055   \n",
       "2 -0.001630 -0.042079  0.015727 -0.001767 -0.003291  0.013766  0.002004   \n",
       "3 -0.025795 -0.015926  0.001318 -0.032243  0.008146  0.016435 -0.004513   \n",
       "4  0.013277 -0.041651 -0.003943 -0.033479 -0.020533 -0.005315  0.006549   \n",
       "\n",
       "    embed_7   embed_8   embed_9  ...  embed_1526  embed_1527  embed_1528  \\\n",
       "0 -0.023810 -0.010477 -0.023632  ...    0.027443   -0.012212    0.027443   \n",
       "1 -0.043894 -0.017026 -0.019061  ...    0.019513   -0.021561    0.001586   \n",
       "2 -0.022219 -0.035216 -0.013024  ...    0.008188   -0.000527    0.024299   \n",
       "3 -0.036447 -0.020051 -0.017323  ...    0.044723   -0.016239    0.020051   \n",
       "4 -0.044121 -0.012049 -0.006034  ...    0.021538   -0.001658    0.017630   \n",
       "\n",
       "   embed_1529  embed_1530  embed_1531  embed_1532  embed_1533  embed_1534  \\\n",
       "0   -0.048002   -0.050789    0.017185    0.005010   -0.015696   -0.035025   \n",
       "1   -0.020245   -0.044214    0.009205   -0.013208   -0.003631   -0.005364   \n",
       "2   -0.027399   -0.015714    0.022550   -0.014574    0.005359   -0.008009   \n",
       "3   -0.040885   -0.019020    0.011076    0.001376   -0.016043   -0.016122   \n",
       "4   -0.013137   -0.022799    0.016332   -0.030398   -0.011838   -0.032053   \n",
       "\n",
       "   embed_1535  \n",
       "0   -0.037894  \n",
       "1   -0.019766  \n",
       "2   -0.023411  \n",
       "3   -0.014999  \n",
       "4   -0.036941  \n",
       "\n",
       "[5 rows x 1536 columns]"
      ]
     },
     "execution_count": 4,
     "metadata": {},
     "output_type": "execute_result"
    }
   ],
   "source": [
    "new_df = pd.concat([pd.DataFrame(df1['embeddings'].to_list(), columns=[f\"embed_{i}\" for i in range(1536)])], axis=1)\n",
    "new_df.head()"
   ]
  },
  {
   "cell_type": "code",
   "execution_count": 5,
   "metadata": {},
   "outputs": [
    {
     "name": "stdout",
     "output_type": "stream",
     "text": [
      "(26005, 1537)\n"
     ]
    }
   ],
   "source": [
    "new_df['label'] = [1 if value == 'positive' else 0 for value in df1['sentiment']]\n",
    "print(new_df.shape)\n",
    "#print(new_df.keys)\n",
    "new_df.to_csv(\"final_train_set.csv\",index=False)"
   ]
  },
  {
   "cell_type": "code",
   "execution_count": 6,
   "metadata": {},
   "outputs": [],
   "source": [
    "\n",
    "X_train, X_test, y_train, y_test = train_test_split(new_df.drop('label', axis=1), new_df['label'], test_size=0.2,random_state=42)\n"
   ]
  },
  {
   "cell_type": "code",
   "execution_count": null,
   "metadata": {},
   "outputs": [
    {
     "data": {
      "text/html": [
       "<style>#sk-container-id-5 {color: black;background-color: white;}#sk-container-id-5 pre{padding: 0;}#sk-container-id-5 div.sk-toggleable {background-color: white;}#sk-container-id-5 label.sk-toggleable__label {cursor: pointer;display: block;width: 100%;margin-bottom: 0;padding: 0.3em;box-sizing: border-box;text-align: center;}#sk-container-id-5 label.sk-toggleable__label-arrow:before {content: \"▸\";float: left;margin-right: 0.25em;color: #696969;}#sk-container-id-5 label.sk-toggleable__label-arrow:hover:before {color: black;}#sk-container-id-5 div.sk-estimator:hover label.sk-toggleable__label-arrow:before {color: black;}#sk-container-id-5 div.sk-toggleable__content {max-height: 0;max-width: 0;overflow: hidden;text-align: left;background-color: #f0f8ff;}#sk-container-id-5 div.sk-toggleable__content pre {margin: 0.2em;color: black;border-radius: 0.25em;background-color: #f0f8ff;}#sk-container-id-5 input.sk-toggleable__control:checked~div.sk-toggleable__content {max-height: 200px;max-width: 100%;overflow: auto;}#sk-container-id-5 input.sk-toggleable__control:checked~label.sk-toggleable__label-arrow:before {content: \"▾\";}#sk-container-id-5 div.sk-estimator input.sk-toggleable__control:checked~label.sk-toggleable__label {background-color: #d4ebff;}#sk-container-id-5 div.sk-label input.sk-toggleable__control:checked~label.sk-toggleable__label {background-color: #d4ebff;}#sk-container-id-5 input.sk-hidden--visually {border: 0;clip: rect(1px 1px 1px 1px);clip: rect(1px, 1px, 1px, 1px);height: 1px;margin: -1px;overflow: hidden;padding: 0;position: absolute;width: 1px;}#sk-container-id-5 div.sk-estimator {font-family: monospace;background-color: #f0f8ff;border: 1px dotted black;border-radius: 0.25em;box-sizing: border-box;margin-bottom: 0.5em;}#sk-container-id-5 div.sk-estimator:hover {background-color: #d4ebff;}#sk-container-id-5 div.sk-parallel-item::after {content: \"\";width: 100%;border-bottom: 1px solid gray;flex-grow: 1;}#sk-container-id-5 div.sk-label:hover label.sk-toggleable__label {background-color: #d4ebff;}#sk-container-id-5 div.sk-serial::before {content: \"\";position: absolute;border-left: 1px solid gray;box-sizing: border-box;top: 0;bottom: 0;left: 50%;z-index: 0;}#sk-container-id-5 div.sk-serial {display: flex;flex-direction: column;align-items: center;background-color: white;padding-right: 0.2em;padding-left: 0.2em;position: relative;}#sk-container-id-5 div.sk-item {position: relative;z-index: 1;}#sk-container-id-5 div.sk-parallel {display: flex;align-items: stretch;justify-content: center;background-color: white;position: relative;}#sk-container-id-5 div.sk-item::before, #sk-container-id-5 div.sk-parallel-item::before {content: \"\";position: absolute;border-left: 1px solid gray;box-sizing: border-box;top: 0;bottom: 0;left: 50%;z-index: -1;}#sk-container-id-5 div.sk-parallel-item {display: flex;flex-direction: column;z-index: 1;position: relative;background-color: white;}#sk-container-id-5 div.sk-parallel-item:first-child::after {align-self: flex-end;width: 50%;}#sk-container-id-5 div.sk-parallel-item:last-child::after {align-self: flex-start;width: 50%;}#sk-container-id-5 div.sk-parallel-item:only-child::after {width: 0;}#sk-container-id-5 div.sk-dashed-wrapped {border: 1px dashed gray;margin: 0 0.4em 0.5em 0.4em;box-sizing: border-box;padding-bottom: 0.4em;background-color: white;}#sk-container-id-5 div.sk-label label {font-family: monospace;font-weight: bold;display: inline-block;line-height: 1.2em;}#sk-container-id-5 div.sk-label-container {text-align: center;}#sk-container-id-5 div.sk-container {/* jupyter's `normalize.less` sets `[hidden] { display: none; }` but bootstrap.min.css set `[hidden] { display: none !important; }` so we also need the `!important` here to be able to override the default hidden behavior on the sphinx rendered scikit-learn.org. See: https://github.com/scikit-learn/scikit-learn/issues/21755 */display: inline-block !important;position: relative;}#sk-container-id-5 div.sk-text-repr-fallback {display: none;}</style><div id=\"sk-container-id-5\" class=\"sk-top-container\"><div class=\"sk-text-repr-fallback\"><pre>SVC(kernel=&#x27;linear&#x27;, probability=True)</pre><b>In a Jupyter environment, please rerun this cell to show the HTML representation or trust the notebook. <br />On GitHub, the HTML representation is unable to render, please try loading this page with nbviewer.org.</b></div><div class=\"sk-container\" hidden><div class=\"sk-item\"><div class=\"sk-estimator sk-toggleable\"><input class=\"sk-toggleable__control sk-hidden--visually\" id=\"sk-estimator-id-8\" type=\"checkbox\" checked><label for=\"sk-estimator-id-8\" class=\"sk-toggleable__label sk-toggleable__label-arrow\">SVC</label><div class=\"sk-toggleable__content\"><pre>SVC(kernel=&#x27;linear&#x27;, probability=True)</pre></div></div></div></div></div>"
      ],
      "text/plain": [
       "SVC(kernel='linear', probability=True)"
      ]
     },
     "execution_count": 15,
     "metadata": {},
     "output_type": "execute_result"
    }
   ],
   "source": [
    "# train SVM with cross-validation\n",
    "svm = SVC(probability=True,kernel='linear')\n",
    "#svm_scores = cross_val_score(svm, X_train, y_train, cv=5)\n",
    "svm.fit(X_train, y_train)\n",
    "#print(\"SVM cross-validation scores:\", svm_scores)"
   ]
  },
  {
   "cell_type": "code",
   "execution_count": null,
   "metadata": {},
   "outputs": [
    {
     "data": {
      "text/html": [
       "<style>#sk-container-id-2 {color: black;background-color: white;}#sk-container-id-2 pre{padding: 0;}#sk-container-id-2 div.sk-toggleable {background-color: white;}#sk-container-id-2 label.sk-toggleable__label {cursor: pointer;display: block;width: 100%;margin-bottom: 0;padding: 0.3em;box-sizing: border-box;text-align: center;}#sk-container-id-2 label.sk-toggleable__label-arrow:before {content: \"▸\";float: left;margin-right: 0.25em;color: #696969;}#sk-container-id-2 label.sk-toggleable__label-arrow:hover:before {color: black;}#sk-container-id-2 div.sk-estimator:hover label.sk-toggleable__label-arrow:before {color: black;}#sk-container-id-2 div.sk-toggleable__content {max-height: 0;max-width: 0;overflow: hidden;text-align: left;background-color: #f0f8ff;}#sk-container-id-2 div.sk-toggleable__content pre {margin: 0.2em;color: black;border-radius: 0.25em;background-color: #f0f8ff;}#sk-container-id-2 input.sk-toggleable__control:checked~div.sk-toggleable__content {max-height: 200px;max-width: 100%;overflow: auto;}#sk-container-id-2 input.sk-toggleable__control:checked~label.sk-toggleable__label-arrow:before {content: \"▾\";}#sk-container-id-2 div.sk-estimator input.sk-toggleable__control:checked~label.sk-toggleable__label {background-color: #d4ebff;}#sk-container-id-2 div.sk-label input.sk-toggleable__control:checked~label.sk-toggleable__label {background-color: #d4ebff;}#sk-container-id-2 input.sk-hidden--visually {border: 0;clip: rect(1px 1px 1px 1px);clip: rect(1px, 1px, 1px, 1px);height: 1px;margin: -1px;overflow: hidden;padding: 0;position: absolute;width: 1px;}#sk-container-id-2 div.sk-estimator {font-family: monospace;background-color: #f0f8ff;border: 1px dotted black;border-radius: 0.25em;box-sizing: border-box;margin-bottom: 0.5em;}#sk-container-id-2 div.sk-estimator:hover {background-color: #d4ebff;}#sk-container-id-2 div.sk-parallel-item::after {content: \"\";width: 100%;border-bottom: 1px solid gray;flex-grow: 1;}#sk-container-id-2 div.sk-label:hover label.sk-toggleable__label {background-color: #d4ebff;}#sk-container-id-2 div.sk-serial::before {content: \"\";position: absolute;border-left: 1px solid gray;box-sizing: border-box;top: 0;bottom: 0;left: 50%;z-index: 0;}#sk-container-id-2 div.sk-serial {display: flex;flex-direction: column;align-items: center;background-color: white;padding-right: 0.2em;padding-left: 0.2em;position: relative;}#sk-container-id-2 div.sk-item {position: relative;z-index: 1;}#sk-container-id-2 div.sk-parallel {display: flex;align-items: stretch;justify-content: center;background-color: white;position: relative;}#sk-container-id-2 div.sk-item::before, #sk-container-id-2 div.sk-parallel-item::before {content: \"\";position: absolute;border-left: 1px solid gray;box-sizing: border-box;top: 0;bottom: 0;left: 50%;z-index: -1;}#sk-container-id-2 div.sk-parallel-item {display: flex;flex-direction: column;z-index: 1;position: relative;background-color: white;}#sk-container-id-2 div.sk-parallel-item:first-child::after {align-self: flex-end;width: 50%;}#sk-container-id-2 div.sk-parallel-item:last-child::after {align-self: flex-start;width: 50%;}#sk-container-id-2 div.sk-parallel-item:only-child::after {width: 0;}#sk-container-id-2 div.sk-dashed-wrapped {border: 1px dashed gray;margin: 0 0.4em 0.5em 0.4em;box-sizing: border-box;padding-bottom: 0.4em;background-color: white;}#sk-container-id-2 div.sk-label label {font-family: monospace;font-weight: bold;display: inline-block;line-height: 1.2em;}#sk-container-id-2 div.sk-label-container {text-align: center;}#sk-container-id-2 div.sk-container {/* jupyter's `normalize.less` sets `[hidden] { display: none; }` but bootstrap.min.css set `[hidden] { display: none !important; }` so we also need the `!important` here to be able to override the default hidden behavior on the sphinx rendered scikit-learn.org. See: https://github.com/scikit-learn/scikit-learn/issues/21755 */display: inline-block !important;position: relative;}#sk-container-id-2 div.sk-text-repr-fallback {display: none;}</style><div id=\"sk-container-id-2\" class=\"sk-top-container\"><div class=\"sk-text-repr-fallback\"><pre>LogisticRegression(C=1, solver=&#x27;saga&#x27;)</pre><b>In a Jupyter environment, please rerun this cell to show the HTML representation or trust the notebook. <br />On GitHub, the HTML representation is unable to render, please try loading this page with nbviewer.org.</b></div><div class=\"sk-container\" hidden><div class=\"sk-item\"><div class=\"sk-estimator sk-toggleable\"><input class=\"sk-toggleable__control sk-hidden--visually\" id=\"sk-estimator-id-2\" type=\"checkbox\" checked><label for=\"sk-estimator-id-2\" class=\"sk-toggleable__label sk-toggleable__label-arrow\">LogisticRegression</label><div class=\"sk-toggleable__content\"><pre>LogisticRegression(C=1, solver=&#x27;saga&#x27;)</pre></div></div></div></div></div>"
      ],
      "text/plain": [
       "LogisticRegression(C=1, solver='saga')"
      ]
     },
     "execution_count": 8,
     "metadata": {},
     "output_type": "execute_result"
    }
   ],
   "source": [
    "# train a logistic regression model with cross-validation\n",
    "lr = LogisticRegression(C=1,solver='saga')\n",
    "#lr_scores = cross_val_score(lr, X_train, y_train, cv=5)\n",
    "lr.fit(X_train, y_train)\n",
    "#print(\"LR cross-validation scores:\", lr_scores)"
   ]
  },
  {
   "cell_type": "code",
   "execution_count": null,
   "metadata": {},
   "outputs": [
    {
     "data": {
      "text/html": [
       "<style>#sk-container-id-3 {color: black;background-color: white;}#sk-container-id-3 pre{padding: 0;}#sk-container-id-3 div.sk-toggleable {background-color: white;}#sk-container-id-3 label.sk-toggleable__label {cursor: pointer;display: block;width: 100%;margin-bottom: 0;padding: 0.3em;box-sizing: border-box;text-align: center;}#sk-container-id-3 label.sk-toggleable__label-arrow:before {content: \"▸\";float: left;margin-right: 0.25em;color: #696969;}#sk-container-id-3 label.sk-toggleable__label-arrow:hover:before {color: black;}#sk-container-id-3 div.sk-estimator:hover label.sk-toggleable__label-arrow:before {color: black;}#sk-container-id-3 div.sk-toggleable__content {max-height: 0;max-width: 0;overflow: hidden;text-align: left;background-color: #f0f8ff;}#sk-container-id-3 div.sk-toggleable__content pre {margin: 0.2em;color: black;border-radius: 0.25em;background-color: #f0f8ff;}#sk-container-id-3 input.sk-toggleable__control:checked~div.sk-toggleable__content {max-height: 200px;max-width: 100%;overflow: auto;}#sk-container-id-3 input.sk-toggleable__control:checked~label.sk-toggleable__label-arrow:before {content: \"▾\";}#sk-container-id-3 div.sk-estimator input.sk-toggleable__control:checked~label.sk-toggleable__label {background-color: #d4ebff;}#sk-container-id-3 div.sk-label input.sk-toggleable__control:checked~label.sk-toggleable__label {background-color: #d4ebff;}#sk-container-id-3 input.sk-hidden--visually {border: 0;clip: rect(1px 1px 1px 1px);clip: rect(1px, 1px, 1px, 1px);height: 1px;margin: -1px;overflow: hidden;padding: 0;position: absolute;width: 1px;}#sk-container-id-3 div.sk-estimator {font-family: monospace;background-color: #f0f8ff;border: 1px dotted black;border-radius: 0.25em;box-sizing: border-box;margin-bottom: 0.5em;}#sk-container-id-3 div.sk-estimator:hover {background-color: #d4ebff;}#sk-container-id-3 div.sk-parallel-item::after {content: \"\";width: 100%;border-bottom: 1px solid gray;flex-grow: 1;}#sk-container-id-3 div.sk-label:hover label.sk-toggleable__label {background-color: #d4ebff;}#sk-container-id-3 div.sk-serial::before {content: \"\";position: absolute;border-left: 1px solid gray;box-sizing: border-box;top: 0;bottom: 0;left: 50%;z-index: 0;}#sk-container-id-3 div.sk-serial {display: flex;flex-direction: column;align-items: center;background-color: white;padding-right: 0.2em;padding-left: 0.2em;position: relative;}#sk-container-id-3 div.sk-item {position: relative;z-index: 1;}#sk-container-id-3 div.sk-parallel {display: flex;align-items: stretch;justify-content: center;background-color: white;position: relative;}#sk-container-id-3 div.sk-item::before, #sk-container-id-3 div.sk-parallel-item::before {content: \"\";position: absolute;border-left: 1px solid gray;box-sizing: border-box;top: 0;bottom: 0;left: 50%;z-index: -1;}#sk-container-id-3 div.sk-parallel-item {display: flex;flex-direction: column;z-index: 1;position: relative;background-color: white;}#sk-container-id-3 div.sk-parallel-item:first-child::after {align-self: flex-end;width: 50%;}#sk-container-id-3 div.sk-parallel-item:last-child::after {align-self: flex-start;width: 50%;}#sk-container-id-3 div.sk-parallel-item:only-child::after {width: 0;}#sk-container-id-3 div.sk-dashed-wrapped {border: 1px dashed gray;margin: 0 0.4em 0.5em 0.4em;box-sizing: border-box;padding-bottom: 0.4em;background-color: white;}#sk-container-id-3 div.sk-label label {font-family: monospace;font-weight: bold;display: inline-block;line-height: 1.2em;}#sk-container-id-3 div.sk-label-container {text-align: center;}#sk-container-id-3 div.sk-container {/* jupyter's `normalize.less` sets `[hidden] { display: none; }` but bootstrap.min.css set `[hidden] { display: none !important; }` so we also need the `!important` here to be able to override the default hidden behavior on the sphinx rendered scikit-learn.org. See: https://github.com/scikit-learn/scikit-learn/issues/21755 */display: inline-block !important;position: relative;}#sk-container-id-3 div.sk-text-repr-fallback {display: none;}</style><div id=\"sk-container-id-3\" class=\"sk-top-container\"><div class=\"sk-text-repr-fallback\"><pre>XGBClassifier(base_score=0.5, booster=&#x27;gbtree&#x27;, callbacks=None,\n",
       "              colsample_bylevel=1, colsample_bynode=1, colsample_bytree=1,\n",
       "              early_stopping_rounds=None, enable_categorical=False, eta=0.1,\n",
       "              eval_metric=None, feature_types=None, gamma=0, gpu_id=-1,\n",
       "              grow_policy=&#x27;depthwise&#x27;, importance_type=None,\n",
       "              interaction_constraints=&#x27;&#x27;, learning_rate=0.100000001,\n",
       "              max_bin=256, max_cat_threshold=64, max_cat_to_onehot=4,\n",
       "              max_delta_step=0, max_depth=7, max_leaves=0, min_child_weight=1,\n",
       "              missing=nan, monotone_constraints=&#x27;()&#x27;, n_estimators=200,\n",
       "              n_jobs=0, num_parallel_tree=1, predictor=&#x27;auto&#x27;, ...)</pre><b>In a Jupyter environment, please rerun this cell to show the HTML representation or trust the notebook. <br />On GitHub, the HTML representation is unable to render, please try loading this page with nbviewer.org.</b></div><div class=\"sk-container\" hidden><div class=\"sk-item\"><div class=\"sk-estimator sk-toggleable\"><input class=\"sk-toggleable__control sk-hidden--visually\" id=\"sk-estimator-id-3\" type=\"checkbox\" checked><label for=\"sk-estimator-id-3\" class=\"sk-toggleable__label sk-toggleable__label-arrow\">XGBClassifier</label><div class=\"sk-toggleable__content\"><pre>XGBClassifier(base_score=0.5, booster=&#x27;gbtree&#x27;, callbacks=None,\n",
       "              colsample_bylevel=1, colsample_bynode=1, colsample_bytree=1,\n",
       "              early_stopping_rounds=None, enable_categorical=False, eta=0.1,\n",
       "              eval_metric=None, feature_types=None, gamma=0, gpu_id=-1,\n",
       "              grow_policy=&#x27;depthwise&#x27;, importance_type=None,\n",
       "              interaction_constraints=&#x27;&#x27;, learning_rate=0.100000001,\n",
       "              max_bin=256, max_cat_threshold=64, max_cat_to_onehot=4,\n",
       "              max_delta_step=0, max_depth=7, max_leaves=0, min_child_weight=1,\n",
       "              missing=nan, monotone_constraints=&#x27;()&#x27;, n_estimators=200,\n",
       "              n_jobs=0, num_parallel_tree=1, predictor=&#x27;auto&#x27;, ...)</pre></div></div></div></div></div>"
      ],
      "text/plain": [
       "XGBClassifier(base_score=0.5, booster='gbtree', callbacks=None,\n",
       "              colsample_bylevel=1, colsample_bynode=1, colsample_bytree=1,\n",
       "              early_stopping_rounds=None, enable_categorical=False, eta=0.1,\n",
       "              eval_metric=None, feature_types=None, gamma=0, gpu_id=-1,\n",
       "              grow_policy='depthwise', importance_type=None,\n",
       "              interaction_constraints='', learning_rate=0.100000001,\n",
       "              max_bin=256, max_cat_threshold=64, max_cat_to_onehot=4,\n",
       "              max_delta_step=0, max_depth=7, max_leaves=0, min_child_weight=1,\n",
       "              missing=nan, monotone_constraints='()', n_estimators=200,\n",
       "              n_jobs=0, num_parallel_tree=1, predictor='auto', ...)"
      ]
     },
     "execution_count": 9,
     "metadata": {},
     "output_type": "execute_result"
    }
   ],
   "source": [
    "\n",
    "# Train a XGB Classifier model on the training data\n",
    "xgb = XGBClassifier(n_estimators=200,max_depth=7,eta=0.1)\n",
    "xgb.fit(X_train, y_train)\n"
   ]
  },
  {
   "cell_type": "code",
   "execution_count": 9,
   "metadata": {},
   "outputs": [
    {
     "data": {
      "text/html": [
       "<style>#sk-container-id-1 {color: black;background-color: white;}#sk-container-id-1 pre{padding: 0;}#sk-container-id-1 div.sk-toggleable {background-color: white;}#sk-container-id-1 label.sk-toggleable__label {cursor: pointer;display: block;width: 100%;margin-bottom: 0;padding: 0.3em;box-sizing: border-box;text-align: center;}#sk-container-id-1 label.sk-toggleable__label-arrow:before {content: \"▸\";float: left;margin-right: 0.25em;color: #696969;}#sk-container-id-1 label.sk-toggleable__label-arrow:hover:before {color: black;}#sk-container-id-1 div.sk-estimator:hover label.sk-toggleable__label-arrow:before {color: black;}#sk-container-id-1 div.sk-toggleable__content {max-height: 0;max-width: 0;overflow: hidden;text-align: left;background-color: #f0f8ff;}#sk-container-id-1 div.sk-toggleable__content pre {margin: 0.2em;color: black;border-radius: 0.25em;background-color: #f0f8ff;}#sk-container-id-1 input.sk-toggleable__control:checked~div.sk-toggleable__content {max-height: 200px;max-width: 100%;overflow: auto;}#sk-container-id-1 input.sk-toggleable__control:checked~label.sk-toggleable__label-arrow:before {content: \"▾\";}#sk-container-id-1 div.sk-estimator input.sk-toggleable__control:checked~label.sk-toggleable__label {background-color: #d4ebff;}#sk-container-id-1 div.sk-label input.sk-toggleable__control:checked~label.sk-toggleable__label {background-color: #d4ebff;}#sk-container-id-1 input.sk-hidden--visually {border: 0;clip: rect(1px 1px 1px 1px);clip: rect(1px, 1px, 1px, 1px);height: 1px;margin: -1px;overflow: hidden;padding: 0;position: absolute;width: 1px;}#sk-container-id-1 div.sk-estimator {font-family: monospace;background-color: #f0f8ff;border: 1px dotted black;border-radius: 0.25em;box-sizing: border-box;margin-bottom: 0.5em;}#sk-container-id-1 div.sk-estimator:hover {background-color: #d4ebff;}#sk-container-id-1 div.sk-parallel-item::after {content: \"\";width: 100%;border-bottom: 1px solid gray;flex-grow: 1;}#sk-container-id-1 div.sk-label:hover label.sk-toggleable__label {background-color: #d4ebff;}#sk-container-id-1 div.sk-serial::before {content: \"\";position: absolute;border-left: 1px solid gray;box-sizing: border-box;top: 0;bottom: 0;left: 50%;z-index: 0;}#sk-container-id-1 div.sk-serial {display: flex;flex-direction: column;align-items: center;background-color: white;padding-right: 0.2em;padding-left: 0.2em;position: relative;}#sk-container-id-1 div.sk-item {position: relative;z-index: 1;}#sk-container-id-1 div.sk-parallel {display: flex;align-items: stretch;justify-content: center;background-color: white;position: relative;}#sk-container-id-1 div.sk-item::before, #sk-container-id-1 div.sk-parallel-item::before {content: \"\";position: absolute;border-left: 1px solid gray;box-sizing: border-box;top: 0;bottom: 0;left: 50%;z-index: -1;}#sk-container-id-1 div.sk-parallel-item {display: flex;flex-direction: column;z-index: 1;position: relative;background-color: white;}#sk-container-id-1 div.sk-parallel-item:first-child::after {align-self: flex-end;width: 50%;}#sk-container-id-1 div.sk-parallel-item:last-child::after {align-self: flex-start;width: 50%;}#sk-container-id-1 div.sk-parallel-item:only-child::after {width: 0;}#sk-container-id-1 div.sk-dashed-wrapped {border: 1px dashed gray;margin: 0 0.4em 0.5em 0.4em;box-sizing: border-box;padding-bottom: 0.4em;background-color: white;}#sk-container-id-1 div.sk-label label {font-family: monospace;font-weight: bold;display: inline-block;line-height: 1.2em;}#sk-container-id-1 div.sk-label-container {text-align: center;}#sk-container-id-1 div.sk-container {/* jupyter's `normalize.less` sets `[hidden] { display: none; }` but bootstrap.min.css set `[hidden] { display: none !important; }` so we also need the `!important` here to be able to override the default hidden behavior on the sphinx rendered scikit-learn.org. See: https://github.com/scikit-learn/scikit-learn/issues/21755 */display: inline-block !important;position: relative;}#sk-container-id-1 div.sk-text-repr-fallback {display: none;}</style><div id=\"sk-container-id-1\" class=\"sk-top-container\"><div class=\"sk-text-repr-fallback\"><pre>GaussianNB()</pre><b>In a Jupyter environment, please rerun this cell to show the HTML representation or trust the notebook. <br />On GitHub, the HTML representation is unable to render, please try loading this page with nbviewer.org.</b></div><div class=\"sk-container\" hidden><div class=\"sk-item\"><div class=\"sk-estimator sk-toggleable\"><input class=\"sk-toggleable__control sk-hidden--visually\" id=\"sk-estimator-id-1\" type=\"checkbox\" checked><label for=\"sk-estimator-id-1\" class=\"sk-toggleable__label sk-toggleable__label-arrow\">GaussianNB</label><div class=\"sk-toggleable__content\"><pre>GaussianNB()</pre></div></div></div></div></div>"
      ],
      "text/plain": [
       "GaussianNB()"
      ]
     },
     "execution_count": 9,
     "metadata": {},
     "output_type": "execute_result"
    }
   ],
   "source": [
    "from sklearn.naive_bayes import GaussianNB\n",
    "gnb = GaussianNB()\n",
    "gnb.fit(X_train, y_train)\n"
   ]
  },
  {
   "cell_type": "code",
   "execution_count": 7,
   "metadata": {},
   "outputs": [],
   "source": [
    "# Load each model for inference\n",
    "# XGBoost\n",
    "with open(\"xgb.pickle\", \"rb\") as file:\n",
    "    loaded_xgb = pickle.load(file)\n",
    "\n",
    "# SVM\n",
    "with open(\"svm.pickle\", \"rb\") as file:\n",
    "    loaded_svm = pickle.load(file)\n",
    "\n",
    "# Logistic Regression\n",
    "with open(\"lr.pickle\", \"rb\") as file:\n",
    "    loaded_lr = pickle.load(file)"
   ]
  },
  {
   "cell_type": "code",
   "execution_count": 10,
   "metadata": {},
   "outputs": [
    {
     "data": {
      "text/plain": [
       "'\\n# Fine-tune the ensemble by adjusting the voting weights\\nweights = ensemble.predict_proba(X_test)\\nweights = np.average(weights, axis=0, weights=y_test)\\nensemble.weights = weights\\n\\n# Train the fine-tuned ensemble on the entire training data\\nensemble.fit(X_train, y_train)\\n'"
      ]
     },
     "execution_count": 10,
     "metadata": {},
     "output_type": "execute_result"
    }
   ],
   "source": [
    "\n",
    "\n",
    "# Define the ensemble model as a voting classifier\n",
    "#ensemble = VotingClassifier(estimators=[('xgb', xgb), ('svm', svm), ('lr', lr)], voting='soft')\n",
    "ensemble = VotingClassifier(estimators=[('xgb', loaded_xgb), ('svm', loaded_svm), ('lr', loaded_lr),('gnb',gnb)], voting='soft',weights=[1,2,1,1])\n",
    "\n",
    "# Train the ensemble model on the training data\n",
    "ensemble.fit(X_train, y_train)\n",
    "\n",
    "'''\n",
    "# Fine-tune the ensemble by adjusting the voting weights\n",
    "weights = ensemble.predict_proba(X_test)\n",
    "weights = np.average(weights, axis=0, weights=y_test)\n",
    "ensemble.weights = weights\n",
    "\n",
    "# Train the fine-tuned ensemble on the entire training data\n",
    "ensemble.fit(X_train, y_train)\n",
    "'''"
   ]
  },
  {
   "cell_type": "code",
   "execution_count": 12,
   "metadata": {},
   "outputs": [],
   "source": [
    "\n",
    "# Make predictions on the testing data\n",
    "xgb_predictions = loaded_xgb.predict(X_test)\n",
    "svm_predictions = loaded_svm.predict(X_test)\n",
    "lr_predictions =  loaded_lr.predict(X_test)\n",
    "gnb_predictions = gnb.predict(X_test)\n",
    "ensemble_predictions = ensemble.predict(X_test)\n"
   ]
  },
  {
   "cell_type": "code",
   "execution_count": 13,
   "metadata": {},
   "outputs": [
    {
     "name": "stdout",
     "output_type": "stream",
     "text": [
      "XGBoost Accuracy: 0.9338588732935974\n",
      "SVM Accuracy: 0.9425110555662373\n",
      "Logistic Regression Accuracy: 0.9392424533743511\n",
      "Gaussian Naive-Bayes Accuracy: 0.8621418957892713\n",
      "Ensemble Accuracy: 0.942703326283407\n"
     ]
    }
   ],
   "source": [
    "\n",
    "#Calculate accuracy for each\n",
    "xgb_accuracy = accuracy_score(y_test, xgb_predictions)\n",
    "svm_accuracy = accuracy_score(y_test, svm_predictions)\n",
    "lr_accuracy = accuracy_score(y_test, lr_predictions)\n",
    "gnb_accuracy = accuracy_score(y_test,gnb_predictions)\n",
    "ensemble_accuracy = accuracy_score(y_test, ensemble_predictions)\n",
    "\n",
    "print(\"XGBoost Accuracy:\", xgb_accuracy)\n",
    "print(\"SVM Accuracy:\", svm_accuracy)\n",
    "print(\"Logistic Regression Accuracy:\", lr_accuracy)\n",
    "print(\"Gaussian Naive-Bayes Accuracy:\",gnb_accuracy)\n",
    "print(\"Ensemble Accuracy:\", ensemble_accuracy)"
   ]
  },
  {
   "cell_type": "code",
   "execution_count": 14,
   "metadata": {},
   "outputs": [
    {
     "name": "stdout",
     "output_type": "stream",
     "text": [
      "              precision    recall  f1-score   support\n",
      "\n",
      "           0       0.96      0.96      0.96      3962\n",
      "           1       0.88      0.89      0.88      1239\n",
      "\n",
      "    accuracy                           0.94      5201\n",
      "   macro avg       0.92      0.92      0.92      5201\n",
      "weighted avg       0.94      0.94      0.94      5201\n",
      "\n"
     ]
    }
   ],
   "source": [
    "from sklearn.metrics import classification_report\n",
    "y_pred = ensemble.predict(X_test)\n",
    "print(classification_report(y_test , y_pred))"
   ]
  },
  {
   "cell_type": "code",
   "execution_count": 41,
   "metadata": {},
   "outputs": [
    {
     "name": "stdout",
     "output_type": "stream",
     "text": [
      "Best parameters: {'classifier': SVC(C=10, kernel='linear'), 'classifier__C': 10, 'classifier__kernel': 'linear'}\n",
      "Best cross-validation score: 0.94\n"
     ]
    }
   ],
   "source": [
    "#SVM Pickle\n",
    "\n",
    "# Define the pipeline with SVM classifier\n",
    "pipe = Pipeline([('classifier', SVC())])\n",
    "\n",
    "# Define the grid search parameters\n",
    "param_grid = [\n",
    "    {\n",
    "        'classifier': [SVC()],\n",
    "        'classifier__kernel': ['linear', 'rbf'],\n",
    "        'classifier__C': [1, 10, 100, 1000],\n",
    "    },\n",
    "]\n",
    "\n",
    "# Perform the grid search with 5-fold cross-validation\n",
    "grid_search = GridSearchCV(pipe, param_grid, cv=5)\n",
    "grid_search.fit(X_train, y_train)\n",
    "\n",
    "# Save the best model to a pickle file\n",
    "with open('best_svm_model.pkl', 'wb') as f:\n",
    "    pickle.dump(grid_search.best_estimator_, f)\n",
    "\n",
    "# Show the best parameters and the best score\n",
    "print(\"Best parameters: {}\".format(grid_search.best_params_))\n",
    "print(\"Best cross-validation score: {:.2f}\".format(grid_search.best_score_))\n"
   ]
  },
  {
   "cell_type": "code",
   "execution_count": null,
   "metadata": {},
   "outputs": [],
   "source": [
    "#LR Pickle\n",
    "from sklearn.model_selection import GridSearchCV\n",
    "from sklearn.linear_model import LogisticRegression\n",
    "\n",
    "param_grid = {'C': [0.1, 1, 10],\n",
    "              'solver': ['newton-cg', 'liblinear', 'saga']}\n",
    "\n",
    "lr = LogisticRegression()\n",
    "grid_search_lr = GridSearchCV(lr, param_grid, cv=5)\n",
    "grid_search_lr.fit(X_train, y_train)\n",
    "\n",
    "best_lr_model = grid_search_lr.best_estimator_\n",
    "\n",
    "# Save the best model as a pickle file\n",
    "import pickle\n",
    "with open('best_lr_model.pkl', 'wb') as f:\n",
    "    pickle.dump(best_lr_model, f)\n",
    "\n",
    "\n",
    "# Show the best parameters and the best score\n",
    "print(\"Best parameters: {}\".format(grid_search_lr.best_params_))\n",
    "print(\"Best cross-validation score: {:.2f}\".format(grid_search_lr.best_score_))\n"
   ]
  },
  {
   "cell_type": "code",
   "execution_count": null,
   "metadata": {},
   "outputs": [],
   "source": [
    "#XGB Pickle\n",
    "\n",
    "param_grid = {'eta': [0.01, 0.1, 1],\n",
    "              'max_depth': [3, 5, 7, 9]}#,\n",
    "             # 'n_estimators': [100, 500, 1000]}\n",
    "\n",
    "xgb_clf = XGBClassifier()\n",
    "grid_search_xgb = GridSearchCV(xgb_clf, param_grid, cv=5)\n",
    "grid_search_xgb.fit(X_train, y_train)\n",
    "\n",
    "best_xgb_model = grid_search_xgb.best_estimator_\n",
    "\n",
    "# Save the best model as a pickle file\n",
    "import pickle\n",
    "with open('best_xgb_model.pkl', 'wb') as f:\n",
    "    pickle.dump(best_xgb_model, f)\n",
    "\n",
    "# Show the best parameters and the best score\n",
    "print(\"Best parameters: {}\".format(grid_search_xgb.best_params_))\n",
    "print(\"Best cross-validation score: {:.2f}\".format(grid_search_xgb.best_score_))"
   ]
  },
  {
   "cell_type": "code",
   "execution_count": 14,
   "metadata": {},
   "outputs": [],
   "source": [
    "# Save each model as a pickle file\n",
    "import pickle\n",
    "\n",
    "# XGBoost\n",
    "with open(\"xgb.pickle\", \"wb\") as file:\n",
    "    pickle.dump(xgb, file)\n",
    "\n",
    "# SVM\n",
    "with open(\"svm.pickle\", \"wb\") as file:\n",
    "    pickle.dump(svm, file)\n",
    "\n",
    "# Logistic Regression\n",
    "with open(\"lr.pickle\", \"wb\") as file:\n",
    "    pickle.dump(lr, file)\n",
    "\n",
    "# Ensemble\n",
    "with open(\"ensemble.pickle\", \"wb\") as file:\n",
    "    pickle.dump(ensemble, file)\n",
    "\n"
   ]
  },
  {
   "cell_type": "code",
   "execution_count": 15,
   "metadata": {},
   "outputs": [
    {
     "ename": "",
     "evalue": "",
     "output_type": "error",
     "traceback": [
      "\u001b[1;31mThe Kernel crashed while executing code in the the current cell or a previous cell. Please review the code in the cell(s) to identify a possible cause of the failure. Click <a href='https://aka.ms/vscodeJupyterKernelCrash'>here</a> for more info. View Jupyter <a href='command:jupyter.viewOutput'>log</a> for further details."
     ]
    }
   ],
   "source": [
    "import pickle\n",
    "# Ensemble\n",
    "with open(\"ensemble.pickle\", \"wb\") as file:\n",
    "    pickle.dump(ensemble, file)\n",
    "\n"
   ]
  }
 ],
 "metadata": {
  "kernelspec": {
   "display_name": "base",
   "language": "python",
   "name": "python3"
  },
  "language_info": {
   "codemirror_mode": {
    "name": "ipython",
    "version": 3
   },
   "file_extension": ".py",
   "mimetype": "text/x-python",
   "name": "python",
   "nbconvert_exporter": "python",
   "pygments_lexer": "ipython3",
   "version": "3.9.16"
  },
  "orig_nbformat": 4,
  "vscode": {
   "interpreter": {
    "hash": "e6424b97f06403314f4be31d32811ce911cda5159b72245e4be57bd5745a3201"
   }
  }
 },
 "nbformat": 4,
 "nbformat_minor": 2
}
