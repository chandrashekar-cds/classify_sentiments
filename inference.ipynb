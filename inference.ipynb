{
 "cells": [
  {
   "cell_type": "code",
   "execution_count": 1,
   "metadata": {},
   "outputs": [
    {
     "name": "stderr",
     "output_type": "stream",
     "text": [
      "/home/chakrapani/miniconda3/lib/python3.9/site-packages/tqdm/auto.py:22: TqdmWarning: IProgress not found. Please update jupyter and ipywidgets. See https://ipywidgets.readthedocs.io/en/stable/user_install.html\n",
      "  from .autonotebook import tqdm as notebook_tqdm\n"
     ]
    }
   ],
   "source": [
    "import pandas as pd\n",
    "import pickle\n",
    "import numpy as np\n",
    "from sklearn.metrics import accuracy_score, classification_report\n",
    "from helper import *"
   ]
  },
  {
   "attachments": {},
   "cell_type": "markdown",
   "metadata": {},
   "source": [
    "#### need to pass the user given input csv to embedding_generator and then use the embeddings here for X. y will be returned by the model as a number which can be converted to negative for 0 and positive for 1"
   ]
  },
  {
   "cell_type": "code",
   "execution_count": 2,
   "metadata": {},
   "outputs": [],
   "source": [
    "# load data for inference\n",
    "df = pd.read_csv(\"test_reviews_with_embeddings.csv\")\n"
   ]
  },
  {
   "cell_type": "code",
   "execution_count": 13,
   "metadata": {},
   "outputs": [],
   "source": [
    "pd.read_csv(\"sentiments_train_test_reviews/reviews_test_4000.csv\").sample(20).to_csv(\"trial_20.csv\")"
   ]
  },
  {
   "attachments": {},
   "cell_type": "markdown",
   "metadata": {},
   "source": [
    "#### preprocess data to feed to our models"
   ]
  },
  {
   "cell_type": "code",
   "execution_count": 3,
   "metadata": {},
   "outputs": [
    {
     "name": "stdout",
     "output_type": "stream",
     "text": [
      "(4000, 1537)\n"
     ]
    }
   ],
   "source": [
    "df1 = pd.DataFrame()\n",
    "df1 = df.dropna(subset=['embeddings'])#.sample(8000)\n",
    "df1 = df1.copy()\n",
    "df1['embeddings'] = df1.embeddings.apply(eval).apply(np.array)\n",
    "new_df = pd.concat([pd.DataFrame(df1['embeddings'].to_list(), columns=[f\"embed_{i}\" for i in range(1536)])], axis=1)\n",
    "\n",
    "new_df['label'] = [1 if value == 'positive' else 0 for value in df1['sentiment']]\n",
    "print(new_df.shape)"
   ]
  },
  {
   "cell_type": "code",
   "execution_count": 4,
   "metadata": {},
   "outputs": [
    {
     "data": {
      "text/html": [
       "<div>\n",
       "<style scoped>\n",
       "    .dataframe tbody tr th:only-of-type {\n",
       "        vertical-align: middle;\n",
       "    }\n",
       "\n",
       "    .dataframe tbody tr th {\n",
       "        vertical-align: top;\n",
       "    }\n",
       "\n",
       "    .dataframe thead th {\n",
       "        text-align: right;\n",
       "    }\n",
       "</style>\n",
       "<table border=\"1\" class=\"dataframe\">\n",
       "  <thead>\n",
       "    <tr style=\"text-align: right;\">\n",
       "      <th></th>\n",
       "      <th>embed_0</th>\n",
       "      <th>embed_1</th>\n",
       "      <th>embed_2</th>\n",
       "      <th>embed_3</th>\n",
       "      <th>embed_4</th>\n",
       "      <th>embed_5</th>\n",
       "      <th>embed_6</th>\n",
       "      <th>embed_7</th>\n",
       "      <th>embed_8</th>\n",
       "      <th>embed_9</th>\n",
       "      <th>...</th>\n",
       "      <th>embed_1527</th>\n",
       "      <th>embed_1528</th>\n",
       "      <th>embed_1529</th>\n",
       "      <th>embed_1530</th>\n",
       "      <th>embed_1531</th>\n",
       "      <th>embed_1532</th>\n",
       "      <th>embed_1533</th>\n",
       "      <th>embed_1534</th>\n",
       "      <th>embed_1535</th>\n",
       "      <th>label</th>\n",
       "    </tr>\n",
       "  </thead>\n",
       "  <tbody>\n",
       "    <tr>\n",
       "      <th>0</th>\n",
       "      <td>-0.040045</td>\n",
       "      <td>-0.021374</td>\n",
       "      <td>-0.010932</td>\n",
       "      <td>-0.017637</td>\n",
       "      <td>-0.006115</td>\n",
       "      <td>0.034957</td>\n",
       "      <td>-0.001441</td>\n",
       "      <td>-0.015106</td>\n",
       "      <td>-0.016379</td>\n",
       "      <td>-0.030663</td>\n",
       "      <td>...</td>\n",
       "      <td>-0.004959</td>\n",
       "      <td>0.002700</td>\n",
       "      <td>-0.017637</td>\n",
       "      <td>-0.035858</td>\n",
       "      <td>-0.007785</td>\n",
       "      <td>-0.002289</td>\n",
       "      <td>-0.000832</td>\n",
       "      <td>-0.022328</td>\n",
       "      <td>0.003314</td>\n",
       "      <td>0</td>\n",
       "    </tr>\n",
       "    <tr>\n",
       "      <th>1</th>\n",
       "      <td>-0.009498</td>\n",
       "      <td>-0.029333</td>\n",
       "      <td>0.040726</td>\n",
       "      <td>-0.007752</td>\n",
       "      <td>-0.020466</td>\n",
       "      <td>0.000762</td>\n",
       "      <td>0.008822</td>\n",
       "      <td>-0.014151</td>\n",
       "      <td>-0.024191</td>\n",
       "      <td>-0.015466</td>\n",
       "      <td>...</td>\n",
       "      <td>-0.003825</td>\n",
       "      <td>0.024887</td>\n",
       "      <td>-0.026034</td>\n",
       "      <td>-0.036679</td>\n",
       "      <td>0.021794</td>\n",
       "      <td>0.010265</td>\n",
       "      <td>0.007752</td>\n",
       "      <td>-0.010040</td>\n",
       "      <td>-0.011915</td>\n",
       "      <td>0</td>\n",
       "    </tr>\n",
       "    <tr>\n",
       "      <th>2</th>\n",
       "      <td>-0.011595</td>\n",
       "      <td>-0.021313</td>\n",
       "      <td>-0.011504</td>\n",
       "      <td>-0.001785</td>\n",
       "      <td>-0.023543</td>\n",
       "      <td>0.006072</td>\n",
       "      <td>0.001181</td>\n",
       "      <td>-0.007324</td>\n",
       "      <td>-0.004415</td>\n",
       "      <td>-0.029425</td>\n",
       "      <td>...</td>\n",
       "      <td>-0.005830</td>\n",
       "      <td>0.016447</td>\n",
       "      <td>-0.013708</td>\n",
       "      <td>-0.033286</td>\n",
       "      <td>-0.005736</td>\n",
       "      <td>0.006616</td>\n",
       "      <td>0.002106</td>\n",
       "      <td>-0.017074</td>\n",
       "      <td>-0.008472</td>\n",
       "      <td>0</td>\n",
       "    </tr>\n",
       "    <tr>\n",
       "      <th>3</th>\n",
       "      <td>-0.004131</td>\n",
       "      <td>-0.011286</td>\n",
       "      <td>0.001132</td>\n",
       "      <td>-0.031751</td>\n",
       "      <td>-0.001232</td>\n",
       "      <td>0.009828</td>\n",
       "      <td>-0.005977</td>\n",
       "      <td>-0.052459</td>\n",
       "      <td>-0.026716</td>\n",
       "      <td>-0.039770</td>\n",
       "      <td>...</td>\n",
       "      <td>-0.020708</td>\n",
       "      <td>0.006993</td>\n",
       "      <td>-0.025204</td>\n",
       "      <td>-0.017671</td>\n",
       "      <td>0.054160</td>\n",
       "      <td>0.018778</td>\n",
       "      <td>-0.016524</td>\n",
       "      <td>-0.005876</td>\n",
       "      <td>-0.023813</td>\n",
       "      <td>1</td>\n",
       "    </tr>\n",
       "    <tr>\n",
       "      <th>4</th>\n",
       "      <td>-0.019083</td>\n",
       "      <td>-0.004487</td>\n",
       "      <td>-0.017896</td>\n",
       "      <td>-0.017712</td>\n",
       "      <td>-0.034184</td>\n",
       "      <td>-0.000612</td>\n",
       "      <td>-0.012944</td>\n",
       "      <td>-0.015852</td>\n",
       "      <td>-0.017145</td>\n",
       "      <td>-0.012067</td>\n",
       "      <td>...</td>\n",
       "      <td>0.011085</td>\n",
       "      <td>0.018041</td>\n",
       "      <td>-0.020218</td>\n",
       "      <td>-0.020415</td>\n",
       "      <td>0.015945</td>\n",
       "      <td>0.004316</td>\n",
       "      <td>-0.006179</td>\n",
       "      <td>-0.002118</td>\n",
       "      <td>-0.023712</td>\n",
       "      <td>1</td>\n",
       "    </tr>\n",
       "  </tbody>\n",
       "</table>\n",
       "<p>5 rows × 1537 columns</p>\n",
       "</div>"
      ],
      "text/plain": [
       "    embed_0   embed_1   embed_2   embed_3   embed_4   embed_5   embed_6  \\\n",
       "0 -0.040045 -0.021374 -0.010932 -0.017637 -0.006115  0.034957 -0.001441   \n",
       "1 -0.009498 -0.029333  0.040726 -0.007752 -0.020466  0.000762  0.008822   \n",
       "2 -0.011595 -0.021313 -0.011504 -0.001785 -0.023543  0.006072  0.001181   \n",
       "3 -0.004131 -0.011286  0.001132 -0.031751 -0.001232  0.009828 -0.005977   \n",
       "4 -0.019083 -0.004487 -0.017896 -0.017712 -0.034184 -0.000612 -0.012944   \n",
       "\n",
       "    embed_7   embed_8   embed_9  ...  embed_1527  embed_1528  embed_1529  \\\n",
       "0 -0.015106 -0.016379 -0.030663  ...   -0.004959    0.002700   -0.017637   \n",
       "1 -0.014151 -0.024191 -0.015466  ...   -0.003825    0.024887   -0.026034   \n",
       "2 -0.007324 -0.004415 -0.029425  ...   -0.005830    0.016447   -0.013708   \n",
       "3 -0.052459 -0.026716 -0.039770  ...   -0.020708    0.006993   -0.025204   \n",
       "4 -0.015852 -0.017145 -0.012067  ...    0.011085    0.018041   -0.020218   \n",
       "\n",
       "   embed_1530  embed_1531  embed_1532  embed_1533  embed_1534  embed_1535  \\\n",
       "0   -0.035858   -0.007785   -0.002289   -0.000832   -0.022328    0.003314   \n",
       "1   -0.036679    0.021794    0.010265    0.007752   -0.010040   -0.011915   \n",
       "2   -0.033286   -0.005736    0.006616    0.002106   -0.017074   -0.008472   \n",
       "3   -0.017671    0.054160    0.018778   -0.016524   -0.005876   -0.023813   \n",
       "4   -0.020415    0.015945    0.004316   -0.006179   -0.002118   -0.023712   \n",
       "\n",
       "   label  \n",
       "0      0  \n",
       "1      0  \n",
       "2      0  \n",
       "3      1  \n",
       "4      1  \n",
       "\n",
       "[5 rows x 1537 columns]"
      ]
     },
     "execution_count": 4,
     "metadata": {},
     "output_type": "execute_result"
    }
   ],
   "source": [
    "new_df.to_csv(\"final_test_set.csv\",index=False)\n",
    "new_df.head()"
   ]
  },
  {
   "cell_type": "code",
   "execution_count": 5,
   "metadata": {},
   "outputs": [],
   "source": [
    "X = new_df.drop(\"label\", axis=1)\n",
    "y_test = new_df['label']"
   ]
  },
  {
   "attachments": {},
   "cell_type": "markdown",
   "metadata": {},
   "source": [
    "### load models from pickle files "
   ]
  },
  {
   "cell_type": "code",
   "execution_count": 6,
   "metadata": {},
   "outputs": [],
   "source": [
    "# Load each model for inference\n",
    "# XGBoost\n",
    "with open(\"xgb.pickle\", \"rb\") as file:\n",
    "    loaded_xgb = pickle.load(file)\n",
    "\n",
    "# SVM\n",
    "with open(\"svm.pickle\", \"rb\") as file:\n",
    "    loaded_svm = pickle.load(file)\n",
    "\n",
    "# Logistic Regression\n",
    "with open(\"lr.pickle\", \"rb\") as file:\n",
    "    loaded_lr = pickle.load(file)\n",
    "\n",
    "# Ensemble\n",
    "with open(\"ensemble.pickle\", \"rb\") as file:\n",
    "    loaded_ensemble = pickle.load(file)\n"
   ]
  },
  {
   "attachments": {},
   "cell_type": "markdown",
   "metadata": {},
   "source": [
    "#### perform predictions"
   ]
  },
  {
   "cell_type": "code",
   "execution_count": 7,
   "metadata": {},
   "outputs": [],
   "source": [
    "\n",
    "# XGBoost\n",
    "xgb_predictions = loaded_xgb.predict(X)\n",
    "\n",
    "# SVM\n",
    "svm_predictions = loaded_svm.predict(X)\n",
    "\n",
    "# Logistic Regression\n",
    "lr_predictions = loaded_lr.predict(X)\n",
    "\n",
    "# Ensemble\n",
    "ensemble_predictions = loaded_ensemble.predict(X)\n"
   ]
  },
  {
   "attachments": {},
   "cell_type": "markdown",
   "metadata": {},
   "source": [
    "#### Accuracy scores"
   ]
  },
  {
   "cell_type": "code",
   "execution_count": 8,
   "metadata": {},
   "outputs": [
    {
     "name": "stdout",
     "output_type": "stream",
     "text": [
      "XGBoost Accuracy: 0.8835\n",
      "SVM Accuracy: 0.92025\n",
      "Logistic Regression Accuracy: 0.901\n",
      "Ensemble Accuracy: 0.926\n"
     ]
    }
   ],
   "source": [
    "\n",
    "#Calculate accuracy for each\n",
    "xgb_accuracy = accuracy_score(y_test, xgb_predictions)\n",
    "svm_accuracy = accuracy_score(y_test, svm_predictions)\n",
    "lr_accuracy = accuracy_score(y_test, lr_predictions)\n",
    "ensemble_accuracy = accuracy_score(y_test, ensemble_predictions)\n",
    "\n",
    "print(\"XGBoost Accuracy:\", xgb_accuracy)\n",
    "print(\"SVM Accuracy:\", svm_accuracy)\n",
    "print(\"Logistic Regression Accuracy:\", lr_accuracy)\n",
    "print(\"Ensemble Accuracy:\", ensemble_accuracy)"
   ]
  },
  {
   "attachments": {},
   "cell_type": "markdown",
   "metadata": {},
   "source": [
    "#### Classification report"
   ]
  },
  {
   "cell_type": "code",
   "execution_count": 9,
   "metadata": {},
   "outputs": [
    {
     "name": "stdout",
     "output_type": "stream",
     "text": [
      "              precision    recall  f1-score   support\n",
      "\n",
      "           0       0.89      0.96      0.93      1981\n",
      "           1       0.96      0.89      0.92      2019\n",
      "\n",
      "    accuracy                           0.93      4000\n",
      "   macro avg       0.93      0.93      0.93      4000\n",
      "weighted avg       0.93      0.93      0.93      4000\n",
      "\n"
     ]
    }
   ],
   "source": [
    "print(classification_report(y_test , ensemble_predictions))"
   ]
  },
  {
   "cell_type": "code",
   "execution_count": 13,
   "metadata": {},
   "outputs": [
    {
     "data": {
      "text/plain": [
       "1000"
      ]
     },
     "execution_count": 13,
     "metadata": {},
     "output_type": "execute_result"
    }
   ],
   "source": [
    "len(ensemble_predictions)"
   ]
  },
  {
   "cell_type": "code",
   "execution_count": 15,
   "metadata": {},
   "outputs": [],
   "source": [
    "results_df = pd.DataFrame()\n",
    "results_df['review'] = df1['review']\n",
    "results_df['sentiment'] = [\"positive\" if value == 1 else \"negative\" for value in ensemble_predictions]\n",
    "results_df.to_csv(\"results.csv\",index=False)"
   ]
  },
  {
   "cell_type": "code",
   "execution_count": null,
   "metadata": {},
   "outputs": [],
   "source": [
    "training_results = convertDF2JSON(pd.read_csv(\"results.csv\"))\n",
    "training_results"
   ]
  },
  {
   "cell_type": "code",
   "execution_count": 11,
   "metadata": {},
   "outputs": [
    {
     "data": {
      "text/plain": [
       "'positive'"
      ]
     },
     "execution_count": 11,
     "metadata": {},
     "output_type": "execute_result"
    }
   ],
   "source": [
    "prediction = 1\n",
    "sentiment = 'positive' if prediction == 1 else 'negative'\n",
    "sentiment"
   ]
  }
 ],
 "metadata": {
  "kernelspec": {
   "display_name": "base",
   "language": "python",
   "name": "python3"
  },
  "language_info": {
   "codemirror_mode": {
    "name": "ipython",
    "version": 3
   },
   "file_extension": ".py",
   "mimetype": "text/x-python",
   "name": "python",
   "nbconvert_exporter": "python",
   "pygments_lexer": "ipython3",
   "version": "3.9.16"
  },
  "orig_nbformat": 4,
  "vscode": {
   "interpreter": {
    "hash": "e6424b97f06403314f4be31d32811ce911cda5159b72245e4be57bd5745a3201"
   }
  }
 },
 "nbformat": 4,
 "nbformat_minor": 2
}
